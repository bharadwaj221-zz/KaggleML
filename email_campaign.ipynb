{
 "cells": [
  {
   "cell_type": "code",
   "execution_count": 4,
   "metadata": {
    "collapsed": true
   },
   "outputs": [],
   "source": [
    "import pandas as pd,re, pickle, scipy\n",
    "from scipy.sparse import csr_matrix\n",
    "from sklearn.naive_bayes import *\n",
    "import numpy as np\n",
    "from sklearn.feature_selection import *\n",
    "from sklearn.feature_extraction import *\n",
    "from sklearn.feature_extraction.text import *\n",
    "from sklearn.preprocessing import LabelEncoder as LE\n",
    "from sklearn.preprocessing import *\n",
    "from sklearn.decomposition import PCA\n",
    "from sklearn.metrics import *\n",
    "from sklearn.kernel_ridge import *\n",
    "from sklearn import tree\n",
    "from sklearn.ensemble import *\n",
    "from sklearn.ensemble import RandomForestClassifier as RF\n",
    "from sklearn.svm import LinearSVC, SVC, OneClassSVM\n",
    "from sklearn.model_selection import *\n",
    "from sklearn.linear_model import *\n",
    "from collections import defaultdict\n",
    "\n",
    "from sklearn.neural_network import MLPClassifier\n",
    "from imblearn.over_sampling import SMOTE, ADASYN\n",
    "from url_utils import URLUtils\n",
    "\n",
    "from encoder import Encoder\n",
    "import sys\n",
    "reload(sys)\n",
    "pca = PCA()#n_components = 'mle', svd_solver = 'full')\n",
    "sys.setdefaultencoding(\"utf-8\")\n",
    "def parse_dates(date):\n",
    "    parts=date.split(\" \")\n",
    "    date_parts = parts[0].split(\"-\")\n",
    "    time_parts = parts[1].split(':')\n",
    "    new_date =date_parts[2]+date_parts[1]+date_parts[0]+time_parts[0]+time_parts[1]\n",
    "    return int(new_date)"
   ]
  },
  {
   "cell_type": "code",
   "execution_count": 3,
   "metadata": {
    "collapsed": true
   },
   "outputs": [],
   "source": [
    "\n",
    "df = pd.read_csv('/Users/bjayaram/Documents/Kaggle/email_campaign/train_HFxi8kT/train.csv')\n",
    "\n",
    "df['send_date'] = map(parse_dates,df['send_date'])"
   ]
  },
  {
   "cell_type": "code",
   "execution_count": 3,
   "metadata": {},
   "outputs": [],
   "source": [
    "\n",
    "# cdf = pd.read_csv('/Users/bjayaram/Documents/Kaggle/email_campaign/train_HFxi8kT/campaign_data.csv')\n",
    "# cdf['text']=cdf['communication_type']+\" \"+get_text(cdf['email_url'])\n",
    "\n",
    "# cdf['url_text'] = cdf['email_url'].map(URLUtils.parse_urls)\n",
    "# pickle.dump(cdf,open('/Users/bjayaram/Documents/Kaggle/email_campaign/cdf.p','w'))"
   ]
  },
  {
   "cell_type": "code",
   "execution_count": 13,
   "metadata": {
    "collapsed": true
   },
   "outputs": [],
   "source": [
    "def encode_data(x_train, numerical_columns, d, enc_create=True):\n",
    "        print \"Numerical columns\",str(numerical_columns)\n",
    "        if numerical_columns is not None:\n",
    "            cat_cols = x_train.drop(numerical_columns, axis=1).fillna('NA')\n",
    "        else:\n",
    "            cat_cols = x_train\n",
    "\n",
    "        label_enc_map = {}\n",
    "\n",
    "        if enc_create:\n",
    "            enc = ()\n",
    "            cat_data = cat_cols.apply(lambda x: d[x.name].fit_transform(x))\n",
    "        else:\n",
    "            cat_data = cat_cols.apply(lambda x: d[x.name].transform(x))\n",
    "        \n",
    "        if numerical_columns is not None:\n",
    "            df = pd.concat([x_train[numerical_columns].fillna(0), cat_data], axis=1)\n",
    "        else:\n",
    "            df = cat_data\n",
    "        return df.values\n"
   ]
  },
  {
   "cell_type": "code",
   "execution_count": 15,
   "metadata": {
    "collapsed": true
   },
   "outputs": [],
   "source": [
    "\n",
    "\n",
    "cdf = pickle.load(open('/Users/bjayaram/Documents/Kaggle/email_campaign/cdf.p'))\n",
    "cdf['text'] = cdf['communication_type']+' '+cdf['subject'] +' '+cdf['email_body']#+' '+cdf['url_text']\n",
    "d=defaultdict(LE)\n",
    "print cdf['communication_type']\n",
    "cdf['comm'] = encode_data(cdf[['communication_type']], None, d)\n",
    "\n",
    "\n",
    "vec = TfidfVectorizer()\n",
    "vec_data = pca.fit_transform(vec.fit_transform(cdf['text'].values).todense())\n",
    "\n",
    "pickle.dump(csr_matrix(vec_data), open('/Users/bjayaram/Documents/Kaggle/email_campaign/vec_data.p','w'))\n"
   ]
  },
  {
   "cell_type": "code",
   "execution_count": 16,
   "metadata": {},
   "outputs": [
    {
     "data": {
      "text/plain": [
       "(numpy.matrixlib.defmatrix.matrix, scipy.sparse.csr.csr_matrix)"
      ]
     },
     "execution_count": 16,
     "metadata": {},
     "output_type": "execute_result"
    }
   ],
   "source": [
    "vec_data = pickle.load(open('/Users/bjayaram/Documents/Kaggle/email_campaign/vec_data.p'))\n",
    "print cdf['comm']\n",
    "data = vec_data.todense()\n",
    "type(data), type(vec_data)"
   ]
  },
  {
   "cell_type": "code",
   "execution_count": 13,
   "metadata": {},
   "outputs": [],
   "source": [
    "m,n = data.shape\n",
    "m,n"
   ]
  },
  {
   "cell_type": "code",
   "execution_count": 17,
   "metadata": {
    "collapsed": true
   },
   "outputs": [],
   "source": [
    "\n",
    "campaign_data = {}\n",
    "campaign_ids = cdf['campaign_id'].values\n",
    "campaign_comm_type = cdf['comm'].values\n",
    "print campaign_ids, len(campaign_ids)\n",
    "for i in range(len(campaign_ids)):\n",
    "    j=campaign_ids[i]\n",
    "    campaign_data[j] = [campaign_comm_type[i]]+list(np.asarray(np.asarray(data[i])[0]))\n",
    "    i,len(campaign_data[j])\n"
   ]
  },
  {
   "cell_type": "code",
   "execution_count": 16,
   "metadata": {},
   "outputs": [
    {
     "data": {
      "text/plain": [
       "array([[       14051, 201709011955],\n       [      134438, 201711021253],\n       [      181789, 201707241515],\n       ..., \n       [      235406, 201707260937],\n       [      183424, 201711062253],\n       [       89219, 201712012020]])"
      ]
     },
     "execution_count": 15,
     "metadata": {},
     "output_type": "execute_result"
    }
   ],
   "source": [
    "data_cols = ['user_id','send_date']\n",
    "label_cols = ['is_click']\n",
    "campaign_features = np.asarray(map(lambda x: campaign_data[x],df['campaign_id']))\n",
    "click_features = df[data_cols].values\n",
    "\n",
    "campaign_features\n",
    "click_features"
   ]
  },
  {
   "cell_type": "code",
   "execution_count": 17,
   "metadata": {},
   "outputs": [
    {
     "data": {
      "text/plain": [
       "(array([[  1.40510000e+04,   2.01709012e+11,   3.00000000e+00, ...,\n          -1.17196805e-04,   1.13485962e-16,   4.00420661e-19],\n        [  1.34438000e+05,   2.01711021e+11,   3.00000000e+00, ...,\n           2.88750758e-04,   1.13485962e-16,   4.00420661e-19],\n        [  1.81789000e+05,   2.01707242e+11,   4.00000000e+00, ...,\n           1.99088149e-04,   1.13485962e-16,   4.00420661e-19],\n        ..., \n        [  2.35406000e+05,   2.01707261e+11,   4.00000000e+00, ...,\n           1.99088149e-04,   1.13485962e-16,   4.00420661e-19],\n        [  1.83424000e+05,   2.01711062e+11,   0.00000000e+00, ...,\n           3.41047971e-05,   1.13485962e-16,   4.00420661e-19],\n        [  8.92190000e+04,   2.01712012e+11,   3.00000000e+00, ...,\n          -9.97446609e-05,   1.13485962e-16,   4.00420661e-19]]),\n array([0, 0, 0, ..., 1, 0, 0]))"
      ]
     },
     "execution_count": 16,
     "metadata": {},
     "output_type": "execute_result"
    }
   ],
   "source": [
    "\n",
    "X = np.concatenate([click_features, campaign_features], axis=1)\n",
    "\n",
    "Y = df['is_click'].values\n",
    "X,Y"
   ]
  },
  {
   "cell_type": "code",
   "execution_count": 18,
   "metadata": {
    "collapsed": true
   },
   "outputs": [],
   "source": [
    "\n",
    "mm = MinMaxScaler()\n",
    "X = csr_matrix(mm.fit_transform(X))\n",
    "\n",
    "X.shape, Y.shape\n",
    "dataset = (X,Y)  \n",
    "pickle.dump(dataset,open('/Users/bjayaram/Documents/Kaggle/email_campaign/data_with_subject_body.p','w'))\n",
    "pickle.dump(mm,open('/Users/bjayaram/Documents/Kaggle/email_campaign/mmscaler.p','w'))\n",
    "\n"
   ]
  },
  {
   "cell_type": "code",
   "execution_count": 2,
   "metadata": {
    "collapsed": true
   },
   "outputs": [
    {
     "data": {
      "text/plain": [
       "(<1023191x55 sparse matrix of type '<type 'numpy.float64'>'\n \twith 54034237 stored elements in Compressed Sparse Row format>,\n array([0, 0, 0, ..., 1, 0, 0]))"
      ]
     },
     "execution_count": 2,
     "metadata": {},
     "output_type": "execute_result"
    }
   ],
   "source": [
    "dataset = pickle.load(open('/Users/bjayaram/Documents/Kaggle/email_campaign/data_with_subject_body.p'))\n",
    "mm =pickle.load(open('/Users/bjayaram/Documents/Kaggle/email_campaign/mmscaler.p'))\n",
    "X=dataset[0]\n",
    "Y=dataset[1]\n",
    "X,Y\n",
    "#  \n"
   ]
  },
  {
   "cell_type": "code",
   "execution_count": 19,
   "metadata": {
    "collapsed": true
   },
   "outputs": [],
   "source": [
    "\n",
    "# chi = SelectKBest(score_func=chi2, k=500)\n",
    "# X = pca.fit_transform(X.todense(),Y)\n",
    "# X = chi.fit_transform(X,Y)\n",
    "# \n",
    "# X.shape, Y.shape\n",
    "# \n",
    "# 'Data loaded'"
   ]
  },
  {
   "cell_type": "code",
   "execution_count": 37,
   "metadata": {
    "collapsed": true
   },
   "outputs": [
    {
     "data": {
      "text/plain": [
       "('Grid all scores = ', {'class_weight': 'balanced'})"
      ]
     },
     "execution_count": 36,
     "metadata": {},
     "output_type": "execute_result"
    }
   ],
   "source": [
    "\n",
    "\n",
    "# model = GridSearchCV(LinearSVC(), cv = 5, n_jobs=24, param_grid={'C':range(1,100,20),'class_weight':['balanced']})\n",
    "\n",
    "# model = LinearSVC(class_weight='balanced')\n",
    "# model = RandomForestClassifier(n_estimators= 1000, n_jobs=-1)\n",
    "# model = LogisticRegressionCV(Cs = range(1,100,10))\n",
    "# model = GridSearchCV(GradientBoostingClassifier(), n_jobs=7, verbose=5, param_grid={'learning_rate':[0.1],'class_weight':['balanced']})\n",
    "# model = GaussianNB(); X = X.todense()\n",
    "# print cross_val_score(model, X,Y,scoring='f1', n_jobs=-1)\n",
    "kf = StratifiedKFold()\n",
    "\n",
    "model = GridSearchCV(LinearSVC(), n_jobs=-1, verbose=5, param_grid={'class_weight':['balanced']})\n",
    "model.fit(X,Y)\n",
    "# \n",
    "\"Grid best scores = \",model.best_score_\n",
    "\"Grid all scores = \",model.best_params_\n"
   ]
  },
  {
   "cell_type": "code",
   "execution_count": 38,
   "metadata": {},
   "outputs": [],
   "source": [
    "df = pd.read_csv('/Users/bjayaram/Documents/Kaggle/email_campaign/test_BDIfz5B.csv')\n",
    "\n",
    "df['send_date'] = map(parse_dates,df['send_date'])\n"
   ]
  },
  {
   "cell_type": "code",
   "execution_count": 38,
   "metadata": {},
   "outputs": [],
   "source": [
    "data_cols = ['user_id','send_date']\n",
    "click_features = df[data_cols].values\n",
    "campaign_features = np.asarray(map(lambda x: campaign_data[x],df['campaign_id']))\n",
    "X_test = np.concatenate([click_features, campaign_features], axis=1)\n",
    "X_test=csr_matrix(mm.transform(X_test))\n",
    "\n",
    "pickle.dump(X_test,open('/Users/bjayaram/Documents/Kaggle/email_campaign/X_test.p','w'))"
   ]
  },
  {
   "cell_type": "code",
   "execution_count": 23,
   "metadata": {},
   "outputs": [],
   "source": [
    "\n",
    "X_test=pickle.load(open('/Users/bjayaram/Documents/Kaggle/email_campaign/X_test.p'))\n",
    "\n",
    "# Y_test = df['is_click'].values\n",
    "# X_test = chi.transform(X_test)\n",
    "\n",
    "\n",
    "Y_test = model.predict(X_test.todense())\n",
    "df['is_click']=Y_test\n"
   ]
  },
  {
   "cell_type": "code",
   "execution_count": 24,
   "metadata": {},
   "outputs": [],
   "source": [
    "results = df[['id', 'is_click']]\n",
    "results.to_csv('/Users/bjayaram/Documents/Kaggle/email_campaign/results.csv', index=None)"
   ]
  },
  {
   "cell_type": "code",
   "execution_count": null,
   "metadata": {},
   "outputs": [],
   "source": []
  }
 ],
 "metadata": {
  "kernelspec": {
   "display_name": "Python [conda env:anaconda2]",
   "language": "python",
   "name": "conda-env-anaconda2-py"
  },
  "language_info": {
   "codemirror_mode": {
    "name": "ipython",
    "version": 2
   },
   "file_extension": ".py",
   "mimetype": "text/x-python",
   "name": "python",
   "nbconvert_exporter": "python",
   "pygments_lexer": "ipython2",
   "version": "2.7.11"
  }
 },
 "nbformat": 4,
 "nbformat_minor": 2
}
