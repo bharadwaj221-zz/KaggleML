{
 "cells": [
  {
   "cell_type": "code",
   "execution_count": 9,
   "metadata": {},
   "outputs": [],
   "source": [
    "import pandas as pd\n",
    "import numpy as np\n",
    "from sklearn.feature_extraction import DictVectorizer as DV\n",
    "from sklearn.feature_selection import *\n",
    "from sklearn.preprocessing import MinMaxScaler as MMS,LabelEncoder as LE\n",
    "from sklearn.decomposition import PCA\n",
    "from sklearn.metrics import *\n",
    "from sklearn.kernel_ridge import *\n",
    "from sklearn import tree\n",
    "from sklearn.ensemble import *\n",
    "from sklearn.ensemble import RandomForestClassifier as RF\n",
    "from sklearn.svm import LinearSVC, SVC, OneClassSVM\n",
    "from sklearn.model_selection import *\n",
    "from sklearn.linear_model import *\n",
    "from collections import defaultdict\n",
    "from sklearn.neural_network import MLPClassifier\n",
    "from encoder import Encoder\n",
    "from imblearn.over_sampling import SMOTE, ADASYN\n"
   ]
  },
  {
   "cell_type": "code",
   "execution_count": 8,
   "metadata": {},
   "outputs": [
    {
     "name": "stdout",
     "output_type": "stream",
     "text": [
      "['IFATHER', 'NRCH17_2', 'IRHHSIZ2', 'IIHHSIZ2', 'IRKI17_2', 'IIKI17_2', 'IRHH65_2', 'IIHH65_2', 'PRXRETRY', 'PRXYDATA', 'MEDICARE', 'CAIDCHIP', 'CHAMPUS', 'PRVHLTIN', 'GRPHLTIN', 'HLTINNOS', 'HLCNOTYR', 'HLCNOTMO', 'HLCLAST', 'HLLOSRSN', 'HLNVCOST', 'HLNVOFFR', 'HLNVREF', 'HLNVNEED', 'HLNVSOR', 'IRMCDCHP', 'IIMCDCHP', 'IRMEDICR', 'IIMEDICR', 'IRCHMPUS', 'IICHMPUS', 'IRPRVHLT', 'IIPRVHLT', 'IROTHHLT', 'IIOTHHLT', 'HLCALLFG', 'HLCALL99', 'ANYHLTI2', 'IRINSUR4', 'IIINSUR4', 'OTHINS', 'CELLNOTCL', 'CELLWRKNG', 'IRFAMSOC', 'IIFAMSOC', 'IRFAMSSI', 'IIFAMSSI', 'IRFSTAMP', 'IIFSTAMP', 'IRFAMPMT', 'IIFAMPMT', 'IRFAMSVC', 'IIFAMSVC', 'IRWELMOS', 'IIWELMOS', 'IRPINC3', 'IRFAMIN3', 'IIPINC3', 'IIFAMIN3', 'GOVTPROG', 'POVERTY3', 'TOOLONG', 'TROUBUND', 'PDEN10', 'COUTYP2', 'MAIIN102', 'AIIND102', 'ANALWT_C', 'VESTR', 'VEREP']\n42543\n[[  4.00000000e+00   2.00000000e+00   4.00000000e+00 ...,   3.88480600e+03\n    4.00260000e+04   1.00000000e+00]\n [  4.00000000e+00   1.00000000e+00   2.00000000e+00 ...,   4.34495798e+03\n    4.00240000e+04   1.00000000e+00]\n [  4.00000000e+00   0.00000000e+00   2.00000000e+00 ...,   7.92521931e+02\n    4.00270000e+04   1.00000000e+00]\n ..., \n [  4.00000000e+00   0.00000000e+00   6.00000000e+00 ...,   1.49002742e+03\n    4.00400000e+04   1.00000000e+00]\n [  4.00000000e+00   0.00000000e+00   1.00000000e+00 ...,   3.84713742e+03\n    4.00500000e+04   1.00000000e+00]\n [  4.00000000e+00   0.00000000e+00   4.00000000e+00 ...,   1.13577937e+04\n    4.00180000e+04   2.00000000e+00]] [0 0 0 ..., 0 0 0]\n3175 45718\n"
     ]
    }
   ],
   "source": [
    "\n",
    "df = pd.read_csv('/Users/bjayaram/Documents/Kaggle/criminal/criminal_train.csv')\n",
    "label_cols = u'Criminal'\n",
    "data_columns=list(df.columns)\n",
    "data_columns.remove('PERID')\n",
    "data_columns.remove('Criminal')\n",
    "print data_columns\n",
    "\n",
    "\n",
    "y_orig = df[label_cols].values\n",
    "x_orig = df[data_columns].values\n",
    "\n",
    "non_crim_indices = np.where(y_orig == 0)\n",
    "crim_indices = np.where(y_orig == 1)\n",
    "print len(non_crim_indices[0])\n",
    "\n",
    "x_non_crim = x_orig[non_crim_indices]\n",
    "y_non_crim = y_orig[non_crim_indices]\n",
    "\n",
    "print x_non_crim, y_non_crim\n",
    "print y_orig.sum(), len(y_orig)"
   ]
  },
  {
   "cell_type": "code",
   "execution_count": 3,
   "metadata": {},
   "outputs": [],
   "source": [
    "\n",
    "smote = SMOTE(ratio='minority', k_neighbors= 5000, kind='svm', n_jobs=16)\n",
    "# adasyn = ADASYN( n_jobs=24, n_neighbors=5)\n",
    "pca=SelectKBest(chi2, k=5)\n",
    "mms = MMS()\n",
    "x_train, y_train = smote.fit_sample(x_train, y_train)\n",
    "x_train = pca.fit_transform(mms.fit_transform(x_train, y_train), y_train)\n",
    "\n",
    "print \"SMOTE sample generated\"\n"
   ]
  },
  {
   "cell_type": "code",
   "execution_count": 7,
   "metadata": {},
   "outputs": [
    {
     "name": "stdout",
     "output_type": "stream",
     "text": [
      "(85085, 5) (85085,)\n"
     ]
    }
   ],
   "source": [
    "print x_train.shape, y_train.shape\n",
    "model1=RandomForestClassifier(n_estimators=1000, n_jobs=-1)\n",
    "# C=map(lambda x:10**x,range(-100,100,10))\n",
    "# model = LogisticRegressionCV(Cs=C, penalty='l1', solver='liblinear', n_jobs=-1)\n",
    "# model = MLPClassifier(hidden_layer_sizes=(100,50))\n",
    "model = GridSearchCV(SVC(),n_jobs=16, scoring = 'f1',  cv = 3, param_grid={'kernel':['rbf', 'poly','sigmoid'],'C':range(1,100,10), 'class_weight':['balanced']})\n",
    "# model = GridSearchCV(RandomForestClassifier(), cv = 5, n_jobs=24, param_grid={'n_estimators':range(3000,3001),'class_weight':['balanced']})\n",
    "\n",
    "model.fit(x_train, y_train)\n",
    "print \"Grid best scores = \",model.best_score_\n",
    "print \"Grid all scores = \",model.cv_results_\n",
    "\n",
    "\n",
    "\n",
    "df = pd.read_csv('/Users/bjayaram/Documents/Kaggle/criminal/criminal_test.csv')\n",
    "label_cols = u'Criminal'\n",
    "data_columns=list(df.columns)\n",
    "data_columns.remove('PERID')\n",
    "x_test = df[data_columns].values\n",
    "x_test = pca.transform(mms.transform(x_test))\n",
    "\n",
    "y_test = model.predict(x_test)\n",
    "res= pd.DataFrame()\n",
    "res['PERID']=df['PERID']\n",
    "res['Criminal']=y_test\n",
    "res.to_csv('/Users/bjayaram/Documents/Kaggle/criminal/results.csv', index=None)\n"
   ]
  },
  {
   "cell_type": "code",
   "execution_count": 14,
   "metadata": {},
   "outputs": [],
   "source": [
    "model = OneClassSVM()\n",
    "# model = GridSearchCV(OneClassSVM,n_jobs=16, scoring = 'f1',  cv = 3, param_grid={'kernel':['rbf', 'poly','sigmoid'],'C':range(1,100,10)})"
   ]
  },
  {
   "cell_type": "code",
   "execution_count": 15,
   "metadata": {},
   "outputs": [
    {
     "data": {
      "text/plain": [
       "OneClassSVM(cache_size=200, coef0=0.0, degree=3, gamma='auto', kernel='rbf',\n      max_iter=-1, nu=0.5, random_state=None, shrinking=True, tol=0.001,\n      verbose=False)"
      ]
     },
     "execution_count": 15,
     "metadata": {},
     "output_type": "execute_result"
    }
   ],
   "source": [
    "model.fit(x_non_crim)"
   ]
  },
  {
   "cell_type": "code",
   "execution_count": null,
   "metadata": {},
   "outputs": [],
   "source": []
  }
 ],
 "metadata": {
  "language": "python"
 },
 "nbformat": 4,
 "nbformat_minor": 2
}
