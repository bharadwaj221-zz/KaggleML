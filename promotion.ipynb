{
 "cells": [
  {
   "cell_type": "code",
   "execution_count": 1,
   "metadata": {
    "collapsed": true
   },
   "outputs": [],
   "source": [
    "import pandas as pd\n",
    "import numpy as np\n",
    "from sklearn.feature_extraction import DictVectorizer as DV\n",
    "from sklearn.feature_selection import *\n",
    "from sklearn.preprocessing import MinMaxScaler as MMS,LabelEncoder as LE\n",
    "from sklearn.decomposition import PCA\n",
    "from sklearn.metrics import *\n",
    "from sklearn.kernel_ridge import *\n",
    "from sklearn import tree\n",
    "from sklearn.ensemble import *\n",
    "from sklearn.ensemble import *\n",
    "from sklearn.svm import LinearSVC, SVC, OneClassSVM\n",
    "from sklearn.model_selection import *\n",
    "from sklearn.linear_model import *\n",
    "from collections import defaultdict\n",
    "from sklearn.neural_network import MLPClassifier\n",
    "from encoder import Encoder\n",
    "from imblearn.over_sampling import SMOTE, ADASYN"
   ]
  },
  {
   "cell_type": "code",
   "execution_count": 2,
   "metadata": {
    "collapsed": true
   },
   "outputs": [],
   "source": [
    "\n",
    "def encode_data(x_train, numerical_columns, d, enc_create=True):\n",
    "    cat_cols = x_train.drop(numerical_cols, axis=1).fillna('NA')\n",
    "\n",
    "    label_enc_map = {}\n",
    "\n",
    "    if enc_create:\n",
    "        enc = ()\n",
    "        cat_data = cat_cols.apply(lambda x: d[x.name].fit_transform(x))\n",
    "    else:\n",
    "        cat_data = cat_cols.apply(lambda x: d[x.name].transform(x))\n",
    "\n",
    "    df = pd.concat([x_train[numerical_cols].fillna(0), cat_data], axis=1)\n",
    "    return df.values\n"
   ]
  },
  {
   "cell_type": "code",
   "execution_count": 3,
   "metadata": {
    "collapsed": false
   },
   "outputs": [
    {
     "name": "stdout",
     "output_type": "stream",
     "text": [
      "Index([u'employee_id', u'department', u'region', u'education', u'gender',\n       u'recruitment_channel', u'no_of_trainings', u'age',\n       u'previous_year_rating', u'length_of_service', u'KPIs_met >80%',\n       u'awards_won?', u'avg_training_score', u'is_promoted'],\n      dtype='object')\n0    50140\n1     4668\nName: is_promoted, dtype: int64\n"
     ]
    }
   ],
   "source": [
    "df = pd.read_csv('/Users/bjayaram/Documents/Kaggle/promotion/train_LZdllcl.csv')\n",
    "print df.columns\n",
    "cols=df.columns\n",
    "n=len(cols)\n",
    "\n",
    "\n",
    "data_cols=cols[1:n-1]\n",
    "label_cols=cols[n-1]\n",
    "# print df\n",
    "print df[label_cols].value_counts()"
   ]
  },
  {
   "cell_type": "code",
   "execution_count": 4,
   "metadata": {
    "collapsed": true
   },
   "outputs": [
    {
     "name": "stdout",
     "output_type": "stream",
     "text": [
      "54808 54808\n"
     ]
    },
    {
     "name": "stdout",
     "output_type": "stream",
     "text": [
      "100424 100424\n"
     ]
    }
   ],
   "source": [
    "\n",
    "numerical_cols=['no_of_trainings','age','previous_year_rating','length_of_service',\n",
    "                'KPIs_met >80%','awards_won?','avg_training_score']\n",
    "d = defaultdict(LE)\n",
    "\n",
    "X=encode_data(df[data_cols], numerical_cols, d)\n",
    "Y = df[label_cols]\n",
    "print len(X), len(Y)\n",
    "mms=MMS()\n",
    "smote = ADASYN(ratio='minority', n_neighbors= 5, n_jobs=24)\n",
    "X,Y=smote.fit_sample(X,Y)\n",
    "print len(X), len(Y)\n",
    "X=mms.fit_transform(X)\n",
    "\n"
   ]
  },
  {
   "cell_type": "code",
   "execution_count": 7,
   "metadata": {
    "collapsed": true
   },
   "outputs": [
    {
     "name": "stdout",
     "output_type": "stream",
     "text": [
      "Fitting 5 folds for each of 2 candidates, totalling 10 fits\n"
     ]
    },
    {
     "name": "stdout",
     "output_type": "stream",
     "text": [
      "[CV] n_estimators=100, learning_rate=0.1 .............................\n"
     ]
    },
    {
     "name": "stdout",
     "output_type": "stream",
     "text": [
      "[CV] n_estimators=100, learning_rate=0.1 .............................\n"
     ]
    },
    {
     "name": "stdout",
     "output_type": "stream",
     "text": [
      "[CV] n_estimators=100, learning_rate=0.1 .............................\n"
     ]
    },
    {
     "name": "stdout",
     "output_type": "stream",
     "text": [
      "[CV] n_estimators=100, learning_rate=0.1 .............................\n"
     ]
    },
    {
     "name": "stdout",
     "output_type": "stream",
     "text": [
      "[CV] n_estimators=100, learning_rate=0.1 .............................\n"
     ]
    },
    {
     "name": "stdout",
     "output_type": "stream",
     "text": [
      "[CV] n_estimators=300, learning_rate=0.1 .............................\n"
     ]
    },
    {
     "name": "stdout",
     "output_type": "stream",
     "text": [
      "[CV] n_estimators=300, learning_rate=0.1 .............................\n"
     ]
    },
    {
     "name": "stdout",
     "output_type": "stream",
     "text": [
      "[CV] n_estimators=300, learning_rate=0.1 .............................\n"
     ]
    },
    {
     "name": "stdout",
     "output_type": "stream",
     "text": [
      "[CV] n_estimators=300, learning_rate=0.1 .............................\n"
     ]
    },
    {
     "name": "stdout",
     "output_type": "stream",
     "text": [
      "[CV] n_estimators=300, learning_rate=0.1 .............................\n"
     ]
    },
    {
     "name": "stdout",
     "output_type": "stream",
     "text": [
      "[CV]  n_estimators=100, learning_rate=0.1, score=0.990639780931, total=  26.1s\n"
     ]
    },
    {
     "name": "stdout",
     "output_type": "stream",
     "text": [
      "[CV]  n_estimators=100, learning_rate=0.1, score=0.990789146129, total=  26.4s\n"
     ]
    },
    {
     "name": "stdout",
     "output_type": "stream",
     "text": [
      "[CV]  n_estimators=100, learning_rate=0.1, score=0.991187453323, total=  26.3s\n"
     ]
    },
    {
     "name": "stdout",
     "output_type": "stream",
     "text": [
      "[CV]  n_estimators=100, learning_rate=0.1, score=0.990041824338, total=  26.3s\n"
     ]
    },
    {
     "name": "stderr",
     "output_type": "stream",
     "text": [
      "[Parallel(n_jobs=36)]: Done   2 out of  10 | elapsed:   26.8s remaining:  1.8min\n"
     ]
    },
    {
     "name": "stdout",
     "output_type": "stream",
     "text": [
      "[CV]  n_estimators=100, learning_rate=0.1, score=0.761762509335, total=  27.2s\n"
     ]
    },
    {
     "name": "stderr",
     "output_type": "stream",
     "text": [
      "[Parallel(n_jobs=36)]: Done   5 out of  10 | elapsed:   27.5s remaining:   27.5s\n"
     ]
    },
    {
     "name": "stdout",
     "output_type": "stream",
     "text": [
      "[CV]  n_estimators=300, learning_rate=0.1, score=0.995469255663, total=  58.0s\n"
     ]
    },
    {
     "name": "stdout",
     "output_type": "stream",
     "text": [
      "[CV]  n_estimators=300, learning_rate=0.1, score=0.995668193587, total=  57.8s\n"
     ]
    },
    {
     "name": "stdout",
     "output_type": "stream",
     "text": [
      "[CV]  n_estimators=300, learning_rate=0.1, score=0.996813542445, total=  58.0s\n"
     ]
    },
    {
     "name": "stdout",
     "output_type": "stream",
     "text": [
      "[CV]  n_estimators=300, learning_rate=0.1, score=0.995817774459, total=  58.0s\n"
     ]
    },
    {
     "name": "stderr",
     "output_type": "stream",
     "text": [
      "[Parallel(n_jobs=36)]: Done   8 out of  10 | elapsed:   59.0s remaining:   14.7s\n"
     ]
    },
    {
     "name": "stdout",
     "output_type": "stream",
     "text": [
      "[CV]  n_estimators=300, learning_rate=0.1, score=0.766293253672, total=  59.5s\n"
     ]
    },
    {
     "name": "stderr",
     "output_type": "stream",
     "text": [
      "[Parallel(n_jobs=36)]: Done  10 out of  10 | elapsed:  1.0min finished\n"
     ]
    },
    {
     "name": "stdout",
     "output_type": "stream",
     "text": [
      "Best 0.950011949335\nAll {'std_train_score': array([ 0.01692552,  0.01606397]), 'split4_test_score': array([ 0.99004182,  0.99566819]), 'rank_test_score': array([2, 1], dtype=int32), 'split2_train_score': array([ 0.94625275,  0.95816478]), 'param_n_estimators': masked_array(data = [100 300],\n             mask = [False False],\n       fill_value = ?)\n, 'std_score_time': array([ 0.01221443,  0.01697626]), 'split4_train_score': array([ 0.94692557,  0.95845158]), 'split2_test_score': array([ 0.99063978,  0.99681354]), 'mean_score_time': array([ 0.07879357,  0.11877117]), 'mean_fit_time': array([ 26.38520241,  58.15186863]), 'split3_train_score': array([ 0.94686267,  0.95867511]), 'split0_train_score': array([ 0.98925802,  0.99860591]), 'std_test_score': array([ 0.0915619 ,  0.09186109]), 'param_learning_rate': masked_array(data = [0.1 0.1],\n             mask = [False False],\n       fill_value = ?)\n, 'split1_train_score': array([ 0.94780866,  0.95850085]), 'split0_test_score': array([ 0.76176251,  0.76629325]), 'mean_test_score': array([ 0.94488369,  0.95001195]), 'params': [{'n_estimators': 100, 'learning_rate': 0.1}, {'n_estimators': 300, 'learning_rate': 0.1}], 'std_fit_time': array([ 0.37531237,  0.64030788]), 'split3_test_score': array([ 0.99118745,  0.99581777]), 'mean_train_score': array([ 0.95542153,  0.96647965]), 'split1_test_score': array([ 0.99078915,  0.99546926])}\n"
     ]
    }
   ],
   "source": [
    "\n",
    "\n",
    "\"\"\"\n",
    "model = GridSearchCV(LogisticRegression(), cv =5, n_jobs=24, param_grid={'C':map(lambda x:10**(-x),range(1,5)),\n",
    "                                                                         'class_weight':['balanced'],\n",
    "                                                                         'penalty':['l1','l2']},\n",
    "\n",
    "\n",
    "model = GridSearchCV(RandomForestClassifier(), verbose=5,cv =5, n_jobs=24, \n",
    "                     param_grid={'n_estimators':[100,1000],'class_weight':['balanced']}\n",
    "                     )\n",
    "                     )\n",
    "\"\"\"\n",
    "model = GridSearchCV(GradientBoostingClassifier(), cv = 5, n_jobs=36, verbose=5, param_grid={'n_estimators':range(100,500,200),'learning_rate':[0.1]})\n",
    "\n",
    "model.fit(X,Y)\n",
    "print 'Best',model.best_score_\n",
    "print 'All', model.cv_results_\n"
   ]
  },
  {
   "cell_type": "code",
   "execution_count": 6,
   "metadata": {
    "collapsed": true
   },
   "outputs": [],
   "source": [
    "model.cv\n"
   ]
  },
  {
   "cell_type": "code",
   "execution_count": 10,
   "metadata": {},
   "outputs": [
    {
     "name": "stdout",
     "output_type": "stream",
     "text": [
      "Index([u'employee_id', u'department', u'region', u'education', u'gender',\n       u'recruitment_channel', u'no_of_trainings', u'age',\n       u'previous_year_rating', u'length_of_service', u'KPIs_met >80%',\n       u'awards_won?', u'avg_training_score'],\n      dtype='object')\n       employee_id         department     region         education gender  \\\n0            65438  Sales & Marketing   region_7  Master's & above      f   \n1            65141         Operations  region_22        Bachelor's      m   \n2             7513  Sales & Marketing  region_19        Bachelor's      m   \n3             2542  Sales & Marketing  region_23        Bachelor's      m   \n4            48945         Technology  region_26        Bachelor's      m   \n5            58896          Analytics   region_2        Bachelor's      m   \n6            20379         Operations  region_20        Bachelor's      f   \n7            16290         Operations  region_34  Master's & above      m   \n8            73202          Analytics  region_20        Bachelor's      m   \n9            28911  Sales & Marketing   region_1  Master's & above      m   \n10           29934         Technology  region_23               NaN      m   \n11           49017  Sales & Marketing   region_7        Bachelor's      f   \n12           60051  Sales & Marketing   region_4        Bachelor's      m   \n13           38401         Technology  region_29  Master's & above      m   \n14           77040                R&D   region_2  Master's & above      m   \n15           43931         Operations   region_7        Bachelor's      m   \n16            7152         Technology   region_2        Bachelor's      m   \n17            9403  Sales & Marketing  region_31        Bachelor's      m   \n18           17436  Sales & Marketing  region_31        Bachelor's      m   \n19           54461         Operations  region_15        Bachelor's      m   \n20           12067        Procurement  region_14        Bachelor's      m   \n21           33332         Operations  region_15               NaN      m   \n22           58789            Finance  region_11        Bachelor's      f   \n23           71177        Procurement   region_5        Bachelor's      m   \n24           52057            Finance  region_22  Master's & above      m   \n25           26585         Technology  region_22        Bachelor's      m   \n26           37749        Procurement  region_26        Bachelor's      m   \n27            2370         Technology  region_26        Bachelor's      m   \n28            8219          Analytics   region_5        Bachelor's      m   \n29           74759  Sales & Marketing   region_4        Bachelor's      m   \n...            ...                ...        ...               ...    ...   \n54778        30691        Procurement   region_2        Bachelor's      f   \n54779        49923         Technology  region_30        Bachelor's      f   \n54780        73767         Operations  region_19        Bachelor's      f   \n54781        76497                 HR  region_27        Bachelor's      f   \n54782        17281         Operations   region_2   Below Secondary      m   \n54783        45504        Procurement   region_2   Below Secondary      m   \n54784        68370  Sales & Marketing  region_30        Bachelor's      m   \n54785        42055         Technology  region_26        Bachelor's      m   \n54786        32291  Sales & Marketing  region_31        Bachelor's      f   \n54787        77455         Technology  region_27        Bachelor's      m   \n54788        75164  Sales & Marketing  region_13        Bachelor's      f   \n54789        75942  Sales & Marketing   region_7  Master's & above      m   \n54790        67988                 HR   region_2        Bachelor's      f   \n54791        27274         Technology  region_11        Bachelor's      m   \n54792          994  Sales & Marketing  region_14        Bachelor's      m   \n54793        28400         Technology   region_2        Bachelor's      m   \n54794        35000         Operations  region_16        Bachelor's      m   \n54795        13477        Procurement  region_15  Master's & above      m   \n54796        12592  Sales & Marketing  region_25  Master's & above      m   \n54797        62450  Sales & Marketing  region_11        Bachelor's      m   \n54798        40257  Sales & Marketing   region_2  Master's & above      f   \n54799        68093        Procurement   region_2  Master's & above      f   \n54800        39227                 HR  region_11        Bachelor's      m   \n54801        12431         Technology  region_26        Bachelor's      f   \n54802         6915  Sales & Marketing  region_14        Bachelor's      m   \n54803         3030         Technology  region_14        Bachelor's      m   \n54804        74592         Operations  region_27  Master's & above      f   \n54805        13918          Analytics   region_1        Bachelor's      m   \n54806        13614  Sales & Marketing   region_9               NaN      m   \n54807        51526                 HR  region_22        Bachelor's      m   \n\n      recruitment_channel  no_of_trainings  age  previous_year_rating  \\\n0                sourcing                1   35                   5.0   \n1                   other                1   30                   5.0   \n2                sourcing                1   34                   3.0   \n3                   other                2   39                   1.0   \n4                   other                1   45                   3.0   \n5                sourcing                2   31                   3.0   \n6                   other                1   31                   3.0   \n7                sourcing                1   33                   3.0   \n8                   other                1   28                   4.0   \n9                sourcing                1   32                   5.0   \n10               sourcing                1   30                   NaN   \n11               sourcing                1   35                   5.0   \n12               sourcing                1   49                   5.0   \n13                  other                2   39                   3.0   \n14               sourcing                1   37                   3.0   \n15                  other                1   37                   1.0   \n16                  other                1   38                   3.0   \n17                  other                1   34                   1.0   \n18                  other                1   34                   5.0   \n19                  other                1   37                   3.0   \n20                  other                1   35                   3.0   \n21               sourcing                1   41                   4.0   \n22                  other                1   28                   3.0   \n23                  other                1   27                   NaN   \n24               sourcing                2   39                   5.0   \n25                  other                1   27                   5.0   \n26                  other                1   31                   5.0   \n27                  other                1   33                   4.0   \n28                  other                1   29                   5.0   \n29               sourcing                1   26                   NaN   \n...                   ...              ...  ...                   ...   \n54778            sourcing                1   30                   3.0   \n54779            sourcing                1   34                   3.0   \n54780            sourcing                1   39                   5.0   \n54781            sourcing                1   38                   5.0   \n54782            sourcing                2   26                   3.0   \n54783               other                3   23                   3.0   \n54784               other                1   39                   5.0   \n54785               other                1   33                   4.0   \n54786            sourcing                2   31                   1.0   \n54787            sourcing                4   26                   3.0   \n54788            sourcing                2   28                   3.0   \n54789               other                3   31                   3.0   \n54790            sourcing                1   48                   5.0   \n54791            sourcing                1   32                   1.0   \n54792               other                1   59                   3.0   \n54793               other                1   33                   1.0   \n54794               other                1   37                   4.0   \n54795               other                1   35                   3.0   \n54796               other                1   34                   3.0   \n54797            sourcing                1   28                   5.0   \n54798               other                2   40                   5.0   \n54799               other                1   50                   5.0   \n54800               other                2   34                   5.0   \n54801            sourcing                1   31                   NaN   \n54802               other                2   31                   1.0   \n54803            sourcing                1   48                   3.0   \n54804               other                1   37                   2.0   \n54805               other                1   27                   5.0   \n54806            sourcing                1   29                   1.0   \n54807               other                1   27                   1.0   \n\n       length_of_service  KPIs_met >80%  awards_won?  avg_training_score  \\\n0                      8              1            0                  49   \n1                      4              0            0                  60   \n2                      7              0            0                  50   \n3                     10              0            0                  50   \n4                      2              0            0                  73   \n5                      7              0            0                  85   \n6                      5              0            0                  59   \n7                      6              0            0                  63   \n8                      5              0            0                  83   \n9                      5              1            0                  54   \n10                     1              0            0                  77   \n11                     3              1            0                  50   \n12                     5              1            0                  49   \n13                    16              0            0                  80   \n14                     7              0            0                  84   \n15                    10              0            0                  60   \n16                     5              1            0                  77   \n17                     4              0            0                  51   \n18                     8              1            0                  46   \n19                     9              0            0                  59   \n20                     7              0            0                  75   \n21                    11              0            0                  57   \n22                     4              0            0                  63   \n23                     1              0            0                  70   \n24                     7              0            0                  59   \n25                     3              1            0                  83   \n26                     4              1            0                  68   \n27                     4              0            0                  79   \n28                     3              1            0                  80   \n29                     1              0            0                  44   \n...                  ...            ...          ...                 ...   \n54778                  3              0            0                  70   \n54779                  3              0            0                  86   \n54780                  7              0            0                  60   \n54781                  3              1            0                  50   \n54782                  2              0            0                  60   \n54783                  2              0            0                  71   \n54784                  9              0            0                  48   \n54785                  7              1            0                  77   \n54786                  4              0            0                  51   \n54787                  3              0            0                  84   \n54788                  3              0            0                  48   \n54789                  9              0            0                  50   \n54790                  4              0            0                  49   \n54791                  3              1            0                  82   \n54792                 11              0            0                  65   \n54793                  9              0            0                  79   \n54794                  7              1            0                  54   \n54795                  7              0            0                  70   \n54796                  7              0            0                  60   \n54797                  3              1            1                  47   \n54798                  4              1            0                  51   \n54799                  6              1            1                  67   \n54800                  3              0            0                  52   \n54801                  1              0            0                  78   \n54802                  2              0            0                  49   \n54803                 17              0            0                  78   \n54804                  6              0            0                  56   \n54805                  3              1            0                  79   \n54806                  2              0            0                  45   \n54807                  5              0            0                  49   \n\n       is_promoted  \n0                0  \n1                0  \n2                0  \n3                0  \n4                0  \n5                0  \n6                0  \n7                0  \n8                0  \n9                0  \n10               0  \n11               1  \n12               0  \n13               0  \n14               0  \n15               0  \n16               0  \n17               0  \n18               0  \n19               0  \n20               0  \n21               0  \n22               0  \n23               0  \n24               0  \n25               0  \n26               0  \n27               0  \n28               0  \n29               0  \n...            ...  \n54778            0  \n54779            0  \n54780            0  \n54781            0  \n54782            0  \n54783            0  \n54784            0  \n54785            0  \n54786            0  \n54787            0  \n54788            0  \n54789            0  \n54790            0  \n54791            0  \n54792            1  \n54793            0  \n54794            0  \n54795            0  \n54796            1  \n54797            0  \n54798            0  \n54799            0  \n54800            0  \n54801            0  \n54802            0  \n54803            0  \n54804            0  \n54805            0  \n54806            0  \n54807            0  \n\n[54808 rows x 14 columns]\n"
     ]
    }
   ],
   "source": [
    "df_test = pd.read_csv('/Users/bjayaram/Documents/Kaggle/promotion/test_2umaH9m.csv')\n",
    "print df_test.columns\n",
    "cols=df_test.columns\n",
    "m=len(cols)\n",
    "\n",
    "\n",
    "data_cols=cols[1:m]\n",
    "print df"
   ]
  },
  {
   "cell_type": "code",
   "execution_count": 11,
   "metadata": {},
   "outputs": [
    {
     "name": "stdout",
     "output_type": "stream",
     "text": [
      "[[ 0.          0.1         0.         ...,  0.          1.          1.        ]\n [ 0.          0.275       0.6        ...,  0.          0.          0.        ]\n [ 0.          0.275       0.2        ...,  0.          1.          0.        ]\n ..., \n [ 0.          0.15        0.8        ...,  0.          0.          1.        ]\n [ 0.22222222  0.175       0.         ...,  0.          1.          1.        ]\n [ 0.22222222  0.5         1.         ...,  0.66666667  1.          0.        ]]\n"
     ]
    }
   ],
   "source": [
    "\n",
    "# d = defaultdict(LE)\n",
    "\n",
    "X_test=encode_data(df_test[data_cols], numerical_cols, d, enc_create=False)\n",
    "# mms=MMS()\n",
    "X_test=mms.transform(X_test)\n",
    "print X_test\n"
   ]
  },
  {
   "cell_type": "code",
   "execution_count": 12,
   "metadata": {},
   "outputs": [],
   "source": [
    "Y_test=model.predict(X_test)\n",
    "res=pd.DataFrame()\n",
    "res['employee_id']=df_test['employee_id']\n",
    "res['is_promoted']=Y_test\n",
    "res.to_csv('/Users/bjayaram/Documents/Kaggle/promotion/results.csv', index=None)"
   ]
  },
  {
   "cell_type": "code",
   "execution_count": null,
   "metadata": {},
   "outputs": [],
   "source": []
  }
 ],
 "metadata": {
  "kernelspec": {
   "display_name": "Python 2",
   "language": "python",
   "name": "python2"
  },
  "language_info": {
   "codemirror_mode": {
    "name": "ipython",
    "version": 2
   },
   "file_extension": ".py",
   "mimetype": "text/x-python",
   "name": "python",
   "nbconvert_exporter": "python",
   "pygments_lexer": "ipython2",
   "version": "2.7.6"
  }
 },
 "nbformat": 4,
 "nbformat_minor": 0
}
